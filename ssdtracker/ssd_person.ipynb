{
 "cells": [
  {
   "cell_type": "code",
   "execution_count": 1,
   "metadata": {
    "colab": {
     "base_uri": "https://localhost:8080/",
     "height": 122
    },
    "colab_type": "code",
    "executionInfo": {
     "elapsed": 33884,
     "status": "ok",
     "timestamp": 1555488904416,
     "user": {
      "displayName": "Random Sound",
      "photoUrl": "",
      "userId": "00911637625003100643"
     },
     "user_tz": -330
    },
    "id": "ThIE_JJjAFA6",
    "outputId": "340eb683-91f3-45e3-ed36-c59509e05ad2",
    "scrolled": true
   },
   "outputs": [],
   "source": [
    "#from google.colab import drive\n",
    "#drive.mount('/content/drive')"
   ]
  },
  {
   "cell_type": "code",
   "execution_count": 2,
   "metadata": {
    "colab": {},
    "colab_type": "code",
    "id": "n5YvGyT0AOOG"
   },
   "outputs": [],
   "source": [
    "#import os"
   ]
  },
  {
   "cell_type": "code",
   "execution_count": 3,
   "metadata": {
    "colab": {},
    "colab_type": "code",
    "id": "v4spHJp9APsW"
   },
   "outputs": [],
   "source": [
    "#os.chdir('drive/My Drive/ssd.pytorch')"
   ]
  },
  {
   "cell_type": "code",
   "execution_count": 4,
   "metadata": {
    "colab": {},
    "colab_type": "code",
    "id": "LJZ303VNAU4y"
   },
   "outputs": [],
   "source": [
    "import torch\n",
    "from torch.autograd import Variable\n",
    "import cv2\n",
    "from data import BaseTransform, VOC_CLASSES as labelmap\n",
    "from ssd import build_ssd\n",
    "import imageio\n",
    "import matplotlib.pyplot as plt\n",
    "import time\n",
    "import numpy as np\n",
    "import sys\n",
    "from sort import *\n",
    "import random\n",
    "\n",
    "%matplotlib inline"
   ]
  },
  {
   "cell_type": "code",
   "execution_count": 5,
   "metadata": {
    "colab": {},
    "colab_type": "code",
    "id": "q5dhdcXVJBXt"
   },
   "outputs": [],
   "source": [
    "device = torch.device(\"cuda\")\n",
    "torch.set_default_tensor_type('torch.cuda.FloatTensor')"
   ]
  },
  {
   "cell_type": "code",
   "execution_count": 6,
   "metadata": {
    "colab": {},
    "colab_type": "code",
    "id": "y3RM0gZYDITO"
   },
   "outputs": [],
   "source": [
    "mot_tracker = Sort() \n",
    "net = build_ssd('test',300,2).cuda()\n",
    "net.load_state_dict(torch.load('weights/ssd_person.pth'))"
   ]
  },
  {
   "cell_type": "code",
   "execution_count": 7,
   "metadata": {
    "colab": {},
    "colab_type": "code",
    "id": "7PyMNYKTaPki"
   },
   "outputs": [],
   "source": [
    "transform = BaseTransform(net.size, (104/256.0, 117/256.0, 123/256.0))"
   ]
  },
  {
   "cell_type": "code",
   "execution_count": 8,
   "metadata": {
    "colab": {},
    "colab_type": "code",
    "id": "x2s51XvcTIYb"
   },
   "outputs": [],
   "source": [
    "COLORS = np.random.rand(32,3)*256\n",
    "FONT = cv2.FONT_HERSHEY_PLAIN\n",
    "count = 0"
   ]
  },
  {
   "cell_type": "code",
   "execution_count": 9,
   "metadata": {
    "colab": {},
    "colab_type": "code",
    "id": "LV0bplC1aTmR"
   },
   "outputs": [],
   "source": [
    "def process_image(image):\n",
    "    height, width = image.shape[:2]\n",
    "    x = torch.from_numpy(transform(image)[0]).permute(2, 0, 1)\n",
    "    x = Variable(x.unsqueeze(0))\n",
    "    x = x.cuda()\n",
    "    \n",
    "    y = net(x)\n",
    "    \n",
    "    detections = y.data\n",
    "    scale = torch.Tensor([width-width*.025, height-height*.05, width+width*.025, height+height*.05])\n",
    "    \n",
    "    allbox = []\n",
    "    for i in range(detections.size(2)):\n",
    "        if detections[0, 1, i, 0] >= .5:\n",
    "            pt = (detections[0, 1, i, 1:] * scale).cpu().numpy()\n",
    "            bbox = np.append(pt, (detections[0, 1, i, 0]).cpu().numpy())\n",
    "            allbox.append(bbox)\n",
    "    \n",
    "    allbbox = np.array(allbox)\n",
    "    track_bbs_ids = mot_tracker.update(allbbox)   \n",
    "\n",
    "    for d in track_bbs_ids:\n",
    "        t_size = cv2.getTextSize('person', cv2.FONT_HERSHEY_PLAIN, 1 , 1)[0]\n",
    "        color = COLORS[int(d[4])%31]\n",
    "        cv2.rectangle(image,(int(d[0]), int(d[1])),(int(d[2]),int(d[3])), color, 2)\n",
    "        cv2.putText(image, (str(int(d[4]))), (int((d[0]+d[2])/2), int(d[1]) + int(t_size[1]) + 4), FONT, 1.5, color, 1, cv2.LINE_AA)\n",
    "    \n",
    "    return(image)"
   ]
  },
  {
   "cell_type": "code",
   "execution_count": 10,
   "metadata": {
    "colab": {},
    "colab_type": "code",
    "id": "k5nY5Bg-aVhJ"
   },
   "outputs": [],
   "source": [
    "def process_video(video,ext):\n",
    "    cap = cv2.VideoCapture('test_videos/'+video+'.'+ext)\n",
    "    fps = int(cap.get(5))\n",
    "    height, width = int(cap.get(3)), int(cap.get(4))\n",
    "    writer = cv2.VideoWriter(\"output/\"+video+'.mp4', cv2.VideoWriter_fourcc(*\"mp4v\"), fps,(height, width))\n",
    "    i=0\n",
    "    start = time.time()\n",
    "    while(cap.isOpened()):\n",
    "        ret, frame = cap.read()\n",
    "        if ret==True:\n",
    "            frame = process_image(frame)\n",
    "            writer.write(frame)\n",
    "            cv2.imshow(\"frame\", frame)\n",
    "            key = cv2.waitKey(1) & 0xFF\n",
    "            if(key==ord('q')):\n",
    "                break\n",
    "            fps = i/(time.time()-start)\n",
    "            sys.stdout.write('\\rFPS = '+str(fps))\n",
    "            i=i+1\n",
    "        else:\n",
    "            break\n",
    "    cap.release()\n",
    "    print(\"\\n Done! and saved to {}\".format('output/'+video+'.mp4'))\n",
    "    writer.release()\n",
    "    cv2.destroyAllWindows()"
   ]
  },
  {
   "cell_type": "code",
   "execution_count": 11,
   "metadata": {
    "colab": {
     "base_uri": "https://localhost:8080/",
     "height": 51
    },
    "colab_type": "code",
    "executionInfo": {
     "elapsed": 163948,
     "status": "ok",
     "timestamp": 1555492938559,
     "user": {
      "displayName": "Random Sound",
      "photoUrl": "",
      "userId": "00911637625003100643"
     },
     "user_tz": -330
    },
    "id": "fBGlI4sPHQVX",
    "outputId": "56cf9ece-064f-4328-be5e-d98c7173d940"
   },
   "outputs": [
    {
     "name": "stdout",
     "output_type": "stream",
     "text": [
      "FPS = 1.64939899611955656\n",
      " Done! and saved to output/max.mp4\n"
     ]
    }
   ],
   "source": [
    "process_video('max','mp4')"
   ]
  },
  {
   "cell_type": "code",
   "execution_count": 12,
   "metadata": {
    "colab": {
     "base_uri": "https://localhost:8080/",
     "height": 34
    },
    "colab_type": "code",
    "executionInfo": {
     "elapsed": 154162,
     "status": "ok",
     "timestamp": 1555489659756,
     "user": {
      "displayName": "Random Sound",
      "photoUrl": "",
      "userId": "00911637625003100643"
     },
     "user_tz": -330
    },
    "id": "eK6AItiXkQnI",
    "outputId": "e9b68388-d81b-49bc-c0b9-ae6a13514c1f"
   },
   "outputs": [],
   "source": [
    "#process_video('4p','avi')"
   ]
  },
  {
   "cell_type": "code",
   "execution_count": 13,
   "metadata": {
    "colab": {
     "base_uri": "https://localhost:8080/",
     "height": 34
    },
    "colab_type": "code",
    "executionInfo": {
     "elapsed": 369706,
     "status": "ok",
     "timestamp": 1555489875408,
     "user": {
      "displayName": "Random Sound",
      "photoUrl": "",
      "userId": "00911637625003100643"
     },
     "user_tz": -330
    },
    "id": "jSMtzoVmLNHa",
    "outputId": "aef249dd-7297-4bff-f723-71d3ba85eea8"
   },
   "outputs": [],
   "source": [
    "#process_video('terrace','avi')"
   ]
  },
  {
   "cell_type": "code",
   "execution_count": 14,
   "metadata": {
    "colab": {
     "base_uri": "https://localhost:8080/",
     "height": 34
    },
    "colab_type": "code",
    "executionInfo": {
     "elapsed": 550258,
     "status": "ok",
     "timestamp": 1555490056054,
     "user": {
      "displayName": "Random Sound",
      "photoUrl": "",
      "userId": "00911637625003100643"
     },
     "user_tz": -330
    },
    "id": "Pl-7kMxndTXW",
    "outputId": "e69e4dca-0204-4006-c661-dc1dca900d21"
   },
   "outputs": [],
   "source": [
    "#process_video('Pedestrian','mp4')"
   ]
  },
  {
   "cell_type": "code",
   "execution_count": 15,
   "metadata": {
    "colab": {
     "base_uri": "https://localhost:8080/",
     "height": 34
    },
    "colab_type": "code",
    "executionInfo": {
     "elapsed": 1124525,
     "status": "ok",
     "timestamp": 1555490631049,
     "user": {
      "displayName": "Random Sound",
      "photoUrl": "",
      "userId": "00911637625003100643"
     },
     "user_tz": -330
    },
    "id": "ofyTnLBseHZ0",
    "outputId": "fa579cec-d5c3-4469-ecc8-36243009d6e1"
   },
   "outputs": [],
   "source": [
    "#process_video('Town','avi')"
   ]
  },
  {
   "cell_type": "code",
   "execution_count": 16,
   "metadata": {
    "colab": {
     "base_uri": "https://localhost:8080/",
     "height": 34
    },
    "colab_type": "code",
    "executionInfo": {
     "elapsed": 841831,
     "status": "ok",
     "timestamp": 1555491564015,
     "user": {
      "displayName": "Random Sound",
      "photoUrl": "",
      "userId": "00911637625003100643"
     },
     "user_tz": -330
    },
    "id": "74VT_BEq7KWO",
    "outputId": "2aef78ce-5d89-4c31-d04b-2bf3af655163"
   },
   "outputs": [],
   "source": [
    "#process_video('pedestrianwalk','mp4')"
   ]
  },
  {
   "cell_type": "code",
   "execution_count": 17,
   "metadata": {},
   "outputs": [],
   "source": [
    "cv2.destroyAllWindows()"
   ]
  },
  {
   "cell_type": "code",
   "execution_count": null,
   "metadata": {},
   "outputs": [],
   "source": []
  }
 ],
 "metadata": {
  "accelerator": "GPU",
  "colab": {
   "collapsed_sections": [],
   "name": "ssd_person.ipynb",
   "provenance": [],
   "version": "0.3.2"
  },
  "kernelspec": {
   "display_name": "Python 3",
   "language": "python",
   "name": "python3"
  },
  "language_info": {
   "codemirror_mode": {
    "name": "ipython",
    "version": 3
   },
   "file_extension": ".py",
   "mimetype": "text/x-python",
   "name": "python",
   "nbconvert_exporter": "python",
   "pygments_lexer": "ipython3",
   "version": "3.7.2"
  }
 },
 "nbformat": 4,
 "nbformat_minor": 1
}
