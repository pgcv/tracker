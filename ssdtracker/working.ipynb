{
 "cells": [
  {
   "cell_type": "code",
   "execution_count": 1,
   "metadata": {},
   "outputs": [],
   "source": [
    "import torch\n",
    "from torch.autograd import Variable\n",
    "import cv2\n",
    "from data import BaseTransform, VOC_CLASSES as labelmap\n",
    "from ssd import build_ssd\n",
    "import imageio\n",
    "import matplotlib.pyplot as plt\n",
    "import time\n",
    "import numpy as np\n",
    "import sys\n",
    "from sort import *\n",
    "import random\n",
    "import datetime\n",
    "\n",
    "%matplotlib inline"
   ]
  },
  {
   "cell_type": "code",
   "execution_count": 2,
   "metadata": {},
   "outputs": [],
   "source": [
    "device = torch.device(\"cuda\")\n",
    "torch.set_default_tensor_type('torch.cuda.FloatTensor')"
   ]
  },
  {
   "cell_type": "code",
   "execution_count": 3,
   "metadata": {},
   "outputs": [],
   "source": [
    "net = build_ssd('test',300,2).cuda()\n",
    "net.load_state_dict(torch.load('weights/ssd_person.pth'))"
   ]
  },
  {
   "cell_type": "code",
   "execution_count": 4,
   "metadata": {},
   "outputs": [],
   "source": [
    "transform = BaseTransform(net.size, (104/256.0, 117/256.0, 123/256.0))"
   ]
  },
  {
   "cell_type": "code",
   "execution_count": 5,
   "metadata": {},
   "outputs": [],
   "source": [
    "COLORS = np.random.rand(32,3)*256\n",
    "FONT = cv2.FONT_HERSHEY_PLAIN\n",
    "count = 0"
   ]
  },
  {
   "cell_type": "code",
   "execution_count": 6,
   "metadata": {},
   "outputs": [],
   "source": [
    "def process_image(image,mot_tracker):\n",
    "    height, width = image.shape[:2]\n",
    "    x = torch.from_numpy(transform(image)[0]).permute(2, 0, 1)\n",
    "    x = Variable(x.unsqueeze(0))\n",
    "    x = x.cuda()\n",
    "    \n",
    "    y = net(x)\n",
    "    \n",
    "    detections = y.data\n",
    "    scale = torch.Tensor([width-width*.025, height-height*.05, width+width*.025, height+height*.05])\n",
    "    \n",
    "    allbox = []\n",
    "    for i in range(detections.size(2)):\n",
    "        if detections[0, 1, i, 0] >= .3:\n",
    "            pt = (detections[0, 1, i, 1:] * scale).cpu().numpy()\n",
    "            bbox = np.append(pt, (detections[0, 1, i, 0]).cpu().numpy())\n",
    "            allbox.append(bbox)\n",
    "    \n",
    "    allbbox = np.array(allbox)\n",
    "    track_bbs_ids = mot_tracker.update(allbbox)   \n",
    "\n",
    "    for d in track_bbs_ids:\n",
    "        t_size = cv2.getTextSize('person', cv2.FONT_HERSHEY_PLAIN, 1 , 1)[0]\n",
    "        color = COLORS[int(d[4])%31]\n",
    "        cv2.rectangle(image,(int(d[0]), int(d[1])),(int(d[2]),int(d[3])), color, 2)\n",
    "        cv2.putText(image, (str(int(d[4]))), (int((d[0])), int(d[1])), FONT, 1.5, (255,255,255), 1, cv2.LINE_AA)\n",
    "    \n",
    "    return(image)"
   ]
  },
  {
   "cell_type": "code",
   "execution_count": 7,
   "metadata": {},
   "outputs": [],
   "source": [
    "def process_video(video,ext):\n",
    "    cap = cv2.VideoCapture('test_videos/'+video+'.'+ext)\n",
    "    fps = int(cap.get(5))\n",
    "    frame_count = int(cap.get(7))\n",
    "    print(\"Total time: \",time.strftime(\"%H:%M:%S\", time.gmtime(frame_count)))\n",
    "    h, w = int(cap.get(3)), int(cap.get(4))\n",
    "    height = int(h/2 if h>400 else h)\n",
    "    r = height / h\n",
    "    width = int(w * r)\n",
    "    writer = cv2.VideoWriter(\"output/\"+video+'.mp4', cv2.VideoWriter_fourcc(*\"mp4v\"), fps,(height, width))\n",
    "    i=1\n",
    "    start = time.time()\n",
    "    mot_tracker = Sort()\n",
    "    while(cap.isOpened()):\n",
    "        ret, frame = cap.read()\n",
    "        if ret==True:\n",
    "            frame = cv2.resize(frame, (int(height), int(width)))\n",
    "            frame = process_image(frame, mot_tracker)\n",
    "            writer.write(frame)\n",
    "            cv2.imshow(\"frame\", frame)\n",
    "            key = cv2.waitKey(1) & 0xFF\n",
    "            if(key==ord('q')):\n",
    "                break\n",
    "                \n",
    "            #FPS and time updater\n",
    "            fps = i/(time.time()-start)\n",
    "            remain = time.strftime(\"%H:%M:%S\", time.gmtime((frame_count-i)/fps))\n",
    "            print(\"FPS: %.2f\"%fps,\"\\tTime Remaining: \",remain,end='\\r')\n",
    "            i=i+1\n",
    "        else:\n",
    "            break\n",
    "    cap.release()\n",
    "    print(\"\\n Done! and saved to {}\".format('output/'+video+'.mp4'))\n",
    "    writer.release()\n",
    "    cv2.destroyAllWindows()"
   ]
  },
  {
   "cell_type": "code",
   "execution_count": 8,
   "metadata": {
    "scrolled": true
   },
   "outputs": [
    {
     "name": "stdout",
     "output_type": "stream",
     "text": [
      "Total time:  00:25:00\n",
      "FPS: 1.28 \tTime Remaining:  00:19:09\n",
      " Done! and saved to output/max.mp4\n"
     ]
    }
   ],
   "source": [
    "process_video('max','mp4')"
   ]
  }
 ],
 "metadata": {
  "kernelspec": {
   "display_name": "Python 3",
   "language": "python",
   "name": "python3"
  },
  "language_info": {
   "codemirror_mode": {
    "name": "ipython",
    "version": 3
   },
   "file_extension": ".py",
   "mimetype": "text/x-python",
   "name": "python",
   "nbconvert_exporter": "python",
   "pygments_lexer": "ipython3",
   "version": "3.7.2"
  }
 },
 "nbformat": 4,
 "nbformat_minor": 2
}
