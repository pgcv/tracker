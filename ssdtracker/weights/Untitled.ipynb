{
 "cells": [
  {
   "cell_type": "code",
   "execution_count": 16,
   "metadata": {},
   "outputs": [],
   "source": [
    "import torch\n",
    "import torchvision\n",
    "import numpy as np"
   ]
  },
  {
   "cell_type": "code",
   "execution_count": 5,
   "metadata": {},
   "outputs": [],
   "source": [
    "org = torchvision.models.vgg16(pretrained = True)"
   ]
  },
  {
   "cell_type": "code",
   "execution_count": null,
   "metadata": {},
   "outputs": [],
   "source": [
    "x = org.state_dict()"
   ]
  },
  {
   "cell_type": "code",
   "execution_count": 97,
   "metadata": {
    "scrolled": false
   },
   "outputs": [
    {
     "name": "stdout",
     "output_type": "stream",
     "text": [
      "torch.Size([64, 3, 3, 3])\n",
      "torch.Size([64])\n",
      "torch.Size([64, 64, 3, 3])\n",
      "torch.Size([64])\n",
      "torch.Size([128, 64, 3, 3])\n",
      "torch.Size([128])\n",
      "torch.Size([128, 128, 3, 3])\n",
      "torch.Size([128])\n",
      "torch.Size([256, 128, 3, 3])\n",
      "torch.Size([256])\n",
      "torch.Size([256, 256, 3, 3])\n",
      "torch.Size([256])\n",
      "torch.Size([256, 256, 3, 3])\n",
      "torch.Size([256])\n",
      "torch.Size([512, 256, 3, 3])\n",
      "torch.Size([512])\n",
      "torch.Size([512, 512, 3, 3])\n",
      "torch.Size([512])\n",
      "torch.Size([512, 512, 3, 3])\n",
      "torch.Size([512])\n",
      "torch.Size([512, 512, 3, 3])\n",
      "torch.Size([512])\n",
      "torch.Size([512, 512, 3, 3])\n",
      "torch.Size([512])\n",
      "torch.Size([512, 512, 3, 3])\n",
      "torch.Size([512])\n",
      "torch.Size([4096, 25088])\n",
      "torch.Size([4096])\n",
      "torch.Size([4096, 4096])\n",
      "torch.Size([4096])\n",
      "torch.Size([1000, 4096])\n"
     ]
    }
   ],
   "source": [
    "for i in range(31):\n",
    "    print(list(x.values())[i].size())"
   ]
  },
  {
   "cell_type": "code",
   "execution_count": 7,
   "metadata": {},
   "outputs": [],
   "source": [
    "ssd = torch.load('vgg16_reducedfc.pth')"
   ]
  },
  {
   "cell_type": "code",
   "execution_count": 117,
   "metadata": {
    "scrolled": false
   },
   "outputs": [
    {
     "name": "stdout",
     "output_type": "stream",
     "text": [
      "Original: torch.Size([64, 3, 3, 3]) Reduced torch.Size([64, 3, 3, 3])\n",
      "Original: torch.Size([64]) Reduced torch.Size([64])\n",
      "Original: torch.Size([64, 64, 3, 3]) Reduced torch.Size([64, 64, 3, 3])\n",
      "Original: torch.Size([64]) Reduced torch.Size([64])\n",
      "Original: torch.Size([128, 64, 3, 3]) Reduced torch.Size([128, 64, 3, 3])\n",
      "Original: torch.Size([128]) Reduced torch.Size([128])\n",
      "Original: torch.Size([128, 128, 3, 3]) Reduced torch.Size([128, 128, 3, 3])\n",
      "Original: torch.Size([128]) Reduced torch.Size([128])\n",
      "Original: torch.Size([256, 128, 3, 3]) Reduced torch.Size([256, 128, 3, 3])\n",
      "Original: torch.Size([256]) Reduced torch.Size([256])\n",
      "Original: torch.Size([256, 256, 3, 3]) Reduced torch.Size([256, 256, 3, 3])\n",
      "Original: torch.Size([256]) Reduced torch.Size([256])\n",
      "Original: torch.Size([256, 256, 3, 3]) Reduced torch.Size([256, 256, 3, 3])\n",
      "Original: torch.Size([256]) Reduced torch.Size([256])\n",
      "Original: torch.Size([512, 256, 3, 3]) Reduced torch.Size([512, 256, 3, 3])\n",
      "Original: torch.Size([512]) Reduced torch.Size([512])\n",
      "Original: torch.Size([512, 512, 3, 3]) Reduced torch.Size([512, 512, 3, 3])\n",
      "Original: torch.Size([512]) Reduced torch.Size([512])\n",
      "Original: torch.Size([512, 512, 3, 3]) Reduced torch.Size([512, 512, 3, 3])\n",
      "Original: torch.Size([512]) Reduced torch.Size([512])\n",
      "Original: torch.Size([512, 512, 3, 3]) Reduced torch.Size([512, 512, 3, 3])\n",
      "Original: torch.Size([512]) Reduced torch.Size([512])\n",
      "Original: torch.Size([512, 512, 3, 3]) Reduced torch.Size([512, 512, 3, 3])\n",
      "Original: torch.Size([512]) Reduced torch.Size([512])\n",
      "Original: torch.Size([512, 512, 3, 3]) Reduced torch.Size([512, 512, 3, 3])\n",
      "Original: torch.Size([512]) Reduced torch.Size([512])\n",
      "Original: torch.Size([4096, 25088]) Reduced torch.Size([1024, 512, 3, 3])\n",
      "Original: torch.Size([4096]) Reduced torch.Size([1024])\n",
      "Original: torch.Size([4096, 4096]) Reduced torch.Size([1024, 1024, 1, 1])\n"
     ]
    }
   ],
   "source": [
    "for i in range(29):\n",
    "    print('Original:',list(x.values())[i].size(), end=' ')\n",
    "    print('Reduced',list(ssd.values())[i].size())"
   ]
  },
  {
   "cell_type": "code",
   "execution_count": 81,
   "metadata": {},
   "outputs": [],
   "source": [
    "trained = torch.load('vgg_person.pth')"
   ]
  },
  {
   "cell_type": "code",
   "execution_count": 116,
   "metadata": {},
   "outputs": [
    {
     "name": "stdout",
     "output_type": "stream",
     "text": [
      "torch.Size([64, 3, 3, 3])\n",
      "torch.Size([64])\n",
      "torch.Size([64, 64, 3, 3])\n",
      "torch.Size([64])\n",
      "torch.Size([128, 64, 3, 3])\n",
      "torch.Size([128])\n",
      "torch.Size([128, 128, 3, 3])\n",
      "torch.Size([128])\n",
      "torch.Size([256, 128, 3, 3])\n",
      "torch.Size([256])\n",
      "torch.Size([256, 256, 3, 3])\n",
      "torch.Size([256])\n",
      "torch.Size([256, 256, 3, 3])\n",
      "torch.Size([256])\n",
      "torch.Size([512, 256, 3, 3])\n",
      "torch.Size([512])\n",
      "torch.Size([512, 512, 3, 3])\n",
      "torch.Size([512])\n",
      "torch.Size([512, 512, 3, 3])\n",
      "torch.Size([512])\n",
      "torch.Size([512, 512, 3, 3])\n",
      "torch.Size([512])\n",
      "torch.Size([512, 512, 3, 3])\n",
      "torch.Size([512])\n",
      "torch.Size([512, 512, 3, 3])\n",
      "torch.Size([512])\n",
      "torch.Size([4096, 25088])\n",
      "torch.Size([4096])\n",
      "torch.Size([4096, 4096])\n",
      "torch.Size([4096])\n",
      "torch.Size([2, 4096])\n"
     ]
    }
   ],
   "source": [
    "for i in range(31):\n",
    "    print(list(trained.values())[i].size())"
   ]
  },
  {
   "cell_type": "code",
   "execution_count": null,
   "metadata": {},
   "outputs": [],
   "source": []
  }
 ],
 "metadata": {
  "kernelspec": {
   "display_name": "Python 3",
   "language": "python",
   "name": "python3"
  },
  "language_info": {
   "codemirror_mode": {
    "name": "ipython",
    "version": 3
   },
   "file_extension": ".py",
   "mimetype": "text/x-python",
   "name": "python",
   "nbconvert_exporter": "python",
   "pygments_lexer": "ipython3",
   "version": "3.7.2"
  }
 },
 "nbformat": 4,
 "nbformat_minor": 2
}
